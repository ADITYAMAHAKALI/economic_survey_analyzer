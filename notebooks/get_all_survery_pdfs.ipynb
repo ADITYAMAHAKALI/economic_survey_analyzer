{
 "cells": [
  {
   "cell_type": "code",
   "execution_count": null,
   "metadata": {},
   "outputs": [],
   "source": [
    "# !pip3 install requests beautifulsoup4"
   ]
  },
  {
   "cell_type": "code",
   "execution_count": 24,
   "metadata": {},
   "outputs": [],
   "source": [
    "import requests\n",
    "from bs4 import BeautifulSoup as bs\n",
    "import os"
   ]
  },
  {
   "cell_type": "code",
   "execution_count": 25,
   "metadata": {},
   "outputs": [],
   "source": [
    "source_page = requests.get(\"https://www.indiabudget.gov.in/economicsurvey/\")"
   ]
  },
  {
   "cell_type": "code",
   "execution_count": 26,
   "metadata": {},
   "outputs": [],
   "source": [
    "soup = bs(source_page.content, 'html.parser')"
   ]
  },
  {
   "cell_type": "code",
   "execution_count": 27,
   "metadata": {},
   "outputs": [],
   "source": [
    "relevant_section = soup.find('tbody', class_='release_list_con')"
   ]
  },
  {
   "cell_type": "code",
   "execution_count": 32,
   "metadata": {},
   "outputs": [],
   "source": [
    "BASE_URL=\"https://www.indiabudget.gov.in/economicsurvey/\""
   ]
  },
  {
   "cell_type": "code",
   "execution_count": null,
   "metadata": {},
   "outputs": [],
   "source": [
    "links_title_pairs = [(a['href'],a.text) for a in relevant_section.find_all('a', href=True)]\n",
    "\n",
    "# Download each file into its respective folder\n",
    "for link, title in links_title_pairs:\n",
    "    # Create folder for the title if it doesn't exist\n",
    "    folder_name = title.replace(\" \", \"_\").replace(\":\", \"\").replace(\"/\", \"-\")  # Clean folder name\n",
    "    os.makedirs(folder_name, exist_ok=True)\n",
    "\n",
    "    # Full URL for the file\n",
    "    file_url = BASE_URL + link\n",
    "\n",
    "    # File path where it will be saved\n",
    "    file_name = link.split(\"/\")[-1]\n",
    "    file_path = os.path.join(folder_name, file_name)\n",
    "\n",
    "    # Download the file\n",
    "    response = requests.get(file_url)\n",
    "    if response.status_code == 200:\n",
    "        with open(file_path, 'wb') as file:\n",
    "            file.write(response.content)\n",
    "        print(f\"Downloaded: {file_path}\")\n",
    "    else:\n",
    "        print(f\"Failed to download: {file_url}\")"
   ]
  },
  {
   "cell_type": "code",
   "execution_count": null,
   "metadata": {},
   "outputs": [],
   "source": []
  }
 ],
 "metadata": {
  "kernelspec": {
   "display_name": "env",
   "language": "python",
   "name": "python3"
  },
  "language_info": {
   "codemirror_mode": {
    "name": "ipython",
    "version": 3
   },
   "file_extension": ".py",
   "mimetype": "text/x-python",
   "name": "python",
   "nbconvert_exporter": "python",
   "pygments_lexer": "ipython3",
   "version": "3.11.6"
  }
 },
 "nbformat": 4,
 "nbformat_minor": 2
}
