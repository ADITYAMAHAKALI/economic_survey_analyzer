{
 "cells": [
  {
   "cell_type": "code",
   "execution_count": 1,
   "metadata": {},
   "outputs": [],
   "source": [
    "# !pip install google-generativeai python-dotenv pydantic"
   ]
  },
  {
   "cell_type": "code",
   "execution_count": 2,
   "metadata": {},
   "outputs": [],
   "source": [
    "import sys\n",
    "sys.path.append('../')"
   ]
  },
  {
   "cell_type": "code",
   "execution_count": 15,
   "metadata": {},
   "outputs": [],
   "source": [
    "from services.gemini_wrapper import generate_insights\n",
    "from services.prompts import SUMMARIZER_PROMPT\n",
    "import os\n",
    "import json\n",
    "import fitz  # PyMuPDF\n",
    "import traceback\n",
    "from pathlib import Path\n",
    "from pydantic import ValidationError"
   ]
  },
  {
   "cell_type": "code",
   "execution_count": 16,
   "metadata": {},
   "outputs": [],
   "source": [
    "class SummaryStructure(BaseModel):\n",
    "    Philosophy_of_Policy_Makers: str = Field(..., description=\"Core philosophy and strategic intent of policymakers.\")\n",
    "    Previous_Performance_Summary: str = Field(..., description=\"Key achievements and challenges in the previous period.\")\n",
    "    Future_Predictions: str = Field(..., description=\"Economic forecasts and expected trends.\")\n",
    "    Focus_Areas_and_Sectors: str = Field(..., description=\"Sectors of interest and companies to watch.\")\n",
    "    Key_Policy_Changes_and_Reforms: str = Field(..., description=\"Significant policy updates and regulatory changes.\")\n",
    "    Growth_Drivers_and_Challenges: str = Field(..., description=\"Factors driving growth and potential challenges.\")\n",
    "    Global_Impact_and_Comparisons: str = Field(..., description=\"Comparison of India's economy with global trends.\")\n",
    "    Opportunities_for_Businesses_and_Investors: str = Field(..., description=\"High-growth areas and investment opportunities.\")\n",
    "    Technology_and_Innovation_Impact: str = Field(..., description=\"Role of AI, digital transformation, and emerging technologies.\")\n",
    "    Social_Implications: str = Field(..., description=\"Effects on employment, education, and social welfare.\")\n",
    "    Conclusion_and_Actionable_Insights: str = Field(..., description=\"Key takeaways and recommendations.\")\n",
    "\n",
    "class SummarySchema(BaseModel):\n",
    "    file_name: str = Field(..., description=\"Name of the file being summarized.\")\n",
    "    text: str = Field(..., description=\"Extracted text from the document.\")\n",
    "    text_length: int = Field(..., description=\"Length of the extracted text.\")\n",
    "    summary: SummaryStructure = Field(..., description=\"Structured summary output.\")\n"
   ]
  },
  {
   "cell_type": "code",
   "execution_count": null,
   "metadata": {},
   "outputs": [],
   "source": [
    "SummaryStructure.schema()"
   ]
  },
  {
   "cell_type": "code",
   "execution_count": null,
   "metadata": {},
   "outputs": [],
   "source": [
    "subfolders = [ f.path for f in os.scandir(\".\") if f.is_dir() ]\n",
    "subfolders"
   ]
  },
  {
   "cell_type": "code",
   "execution_count": null,
   "metadata": {},
   "outputs": [],
   "source": [
    "data = []\n",
    "\n",
    "for folder in subfolders:\n",
    "    obj = {}\n",
    "    folder_path = Path(folder)\n",
    "\n",
    "    try:\n",
    "        if not folder_path.exists() or not folder_path.is_dir():\n",
    "            print(f\"Skipping invalid folder: {folder}\")\n",
    "            continue\n",
    "\n",
    "        file_inside = next((f for f in folder_path.iterdir() if f.is_file()), None)\n",
    "        if not file_inside:\n",
    "            print(f\"No valid file found in {folder}\")\n",
    "            continue\n",
    "\n",
    "        obj[\"file_name\"] = folder.replace(\"./\", \"\")\n",
    "        print(f\"Processing file: {folder}\")\n",
    "\n",
    "        with fitz.open(file_inside) as doc:\n",
    "            doc_text = \"\\n\\n\".join(page.get_text() for page in doc)\n",
    "\n",
    "        obj[\"text\"] = doc_text\n",
    "        obj[\"text_length\"] = len(doc_text)\n",
    "\n",
    "        # Generate structured summary using Generative AI\n",
    "        summary_response = generate_insights(SUMMARIZER_PROMPT.format(title=obj[\"file_name\"], content=obj[\"text\"]))\n",
    "\n",
    "        summary_response = summary_response.replace(\"```json\", \"\").replace(\"```\", \"\")  # Remove unnecessary characters\n",
    "        print(\"AI Summary Response:\", summary_response)\n",
    "\n",
    "        try:\n",
    "            summary_dict = json.loads(summary_response)  # Convert AI-generated JSON string to dict\n",
    "            obj[\"summary\"] = SummaryStructure(**summary_dict)  # Validate JSON structure using Pydantic\n",
    "        except (json.JSONDecodeError, ValidationError) as e:\n",
    "            print(f\"Error processing summary for file {file_inside.name}: {e}\")\n",
    "            traceback.print_exc()\n",
    "            break\n",
    "\n",
    "        # Validate the entire object\n",
    "        validated_obj = SummarySchema(**obj)\n",
    "        data.append(validated_obj.dict())  # Store as a dictionary\n",
    "\n",
    "    except Exception as e:\n",
    "        print(f\"Unexpected error processing file {file_inside.name}: {e}\")\n",
    "        traceback.print_exc()\n",
    "        break"
   ]
  },
  {
   "cell_type": "code",
   "execution_count": null,
   "metadata": {},
   "outputs": [],
   "source": [
    "data"
   ]
  },
  {
   "cell_type": "code",
   "execution_count": 24,
   "metadata": {},
   "outputs": [],
   "source": [
    "with open(\"./economic_survey_summaries.json\", \"w\") as f:\n",
    "    json.dump(data, f, indent=4)"
   ]
  },
  {
   "cell_type": "code",
   "execution_count": 25,
   "metadata": {},
   "outputs": [],
   "source": [
    "updated_data = []\n",
    "for obj in data:\n",
    "    del obj[\"text\"]  # Remove the extracted text to reduce file size\n",
    "    updated_data.append(obj)"
   ]
  },
  {
   "cell_type": "code",
   "execution_count": 26,
   "metadata": {},
   "outputs": [],
   "source": [
    "with open(\"./economic_survey_summaries.json\", \"w\") as f:\n",
    "    json.dump(updated_data, f, indent=4)"
   ]
  },
  {
   "cell_type": "code",
   "execution_count": null,
   "metadata": {},
   "outputs": [],
   "source": []
  }
 ],
 "metadata": {
  "kernelspec": {
   "display_name": "env",
   "language": "python",
   "name": "python3"
  },
  "language_info": {
   "codemirror_mode": {
    "name": "ipython",
    "version": 3
   },
   "file_extension": ".py",
   "mimetype": "text/x-python",
   "name": "python",
   "nbconvert_exporter": "python",
   "pygments_lexer": "ipython3",
   "version": "3.11.6"
  }
 },
 "nbformat": 4,
 "nbformat_minor": 2
}
